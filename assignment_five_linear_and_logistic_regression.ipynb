{
  "nbformat": 4,
  "nbformat_minor": 0,
  "metadata": {
    "colab": {
      "provenance": [],
      "collapsed_sections": [
        "eCZWb21wqZ6-",
        "834s5RctrvMi",
        "-M-Xk-AEssAB",
        "uK-k_X-EtDW2",
        "dLARSDWHtJAF",
        "PzyAbXmHurDc",
        "6yUhRKNKxYuL",
        "KJhDxVNDvta2",
        "eLA6dGlM0e6j",
        "i-pXiBCk0Mmt",
        "prDBlzBr-dMk",
        "39ZzaVbslc0G",
        "oMz3XilbvGVe",
        "iVY9RwTjvwU9",
        "XS3RRHPZv-jK",
        "nxcONos-wtaO",
        "gbUorKU3xDn0",
        "DHj9Q6HhxMak",
        "BevOFPXjyMMg",
        "PHvY7Izf3bxD",
        "ST1RYvL43yAj",
        "V-4KIXyu31Bk"
      ],
      "authorship_tag": "ABX9TyMesdkC2p+xQQwfECuB0hPp"
    },
    "kernelspec": {
      "name": "python3",
      "display_name": "Python 3"
    },
    "language_info": {
      "name": "python"
    }
  },
  "cells": [
    {
      "cell_type": "markdown",
      "source": [
        "# CS471 --- Introduction to Artificial Intelligence\n",
        "### Assignment 5 --- Linear and Logistic Regression\n",
        "---\n",
        "Salman Burhan"
      ],
      "metadata": {
        "id": "xG9PHUtgpycL"
      }
    },
    {
      "cell_type": "markdown",
      "source": [
        "# **I. Linear Regression**\n",
        "---\n",
        "This model will be working with the *diabetes* data set included in the `sklearn.datasets` package."
      ],
      "metadata": {
        "id": "eCZWb21wqZ6-"
      }
    },
    {
      "cell_type": "markdown",
      "source": [
        "## Import the *Diabetes* data helper"
      ],
      "metadata": {
        "id": "u16UW2rIqzqG"
      }
    },
    {
      "cell_type": "code",
      "execution_count": 208,
      "metadata": {
        "id": "284a1i52pvnc"
      },
      "outputs": [],
      "source": [
        "from sklearn.datasets import load_diabetes"
      ]
    },
    {
      "cell_type": "markdown",
      "source": [
        "## Load The *Diabetes* Data Set"
      ],
      "metadata": {
        "id": "834s5RctrvMi"
      }
    },
    {
      "cell_type": "code",
      "source": [
        "diabetes = load_diabetes()"
      ],
      "metadata": {
        "id": "iU1-fPkFrpBN"
      },
      "execution_count": 209,
      "outputs": []
    },
    {
      "cell_type": "markdown",
      "source": [
        "### A description of the data set."
      ],
      "metadata": {
        "id": "pNx1kzDnsjDR"
      }
    },
    {
      "cell_type": "code",
      "source": [
        "print(diabetes.DESCR)"
      ],
      "metadata": {
        "colab": {
          "base_uri": "https://localhost:8080/"
        },
        "id": "qLWNl3P3sAp5",
        "outputId": "7833e90e-3f2c-43d9-a73c-522a160469d4"
      },
      "execution_count": 210,
      "outputs": [
        {
          "output_type": "stream",
          "name": "stdout",
          "text": [
            ".. _diabetes_dataset:\n",
            "\n",
            "Diabetes dataset\n",
            "----------------\n",
            "\n",
            "Ten baseline variables, age, sex, body mass index, average blood\n",
            "pressure, and six blood serum measurements were obtained for each of n =\n",
            "442 diabetes patients, as well as the response of interest, a\n",
            "quantitative measure of disease progression one year after baseline.\n",
            "\n",
            "**Data Set Characteristics:**\n",
            "\n",
            "  :Number of Instances: 442\n",
            "\n",
            "  :Number of Attributes: First 10 columns are numeric predictive values\n",
            "\n",
            "  :Target: Column 11 is a quantitative measure of disease progression one year after baseline\n",
            "\n",
            "  :Attribute Information:\n",
            "      - age     age in years\n",
            "      - sex\n",
            "      - bmi     body mass index\n",
            "      - bp      average blood pressure\n",
            "      - s1      tc, total serum cholesterol\n",
            "      - s2      ldl, low-density lipoproteins\n",
            "      - s3      hdl, high-density lipoproteins\n",
            "      - s4      tch, total cholesterol / HDL\n",
            "      - s5      ltg, possibly log of serum triglycerides level\n",
            "      - s6      glu, blood sugar level\n",
            "\n",
            "Note: Each of these 10 feature variables have been mean centered and scaled by the standard deviation times the square root of `n_samples` (i.e. the sum of squares of each column totals 1).\n",
            "\n",
            "Source URL:\n",
            "https://www4.stat.ncsu.edu/~boos/var.select/diabetes.html\n",
            "\n",
            "For more information see:\n",
            "Bradley Efron, Trevor Hastie, Iain Johnstone and Robert Tibshirani (2004) \"Least Angle Regression,\" Annals of Statistics (with discussion), 407-499.\n",
            "(https://web.stanford.edu/~hastie/Papers/LARS/LeastAngle_2002.pdf)\n",
            "\n"
          ]
        }
      ]
    },
    {
      "cell_type": "markdown",
      "source": [
        "### The data contained within the dataset (soon to become the `x` matrix)."
      ],
      "metadata": {
        "id": "-M-Xk-AEssAB"
      }
    },
    {
      "cell_type": "code",
      "source": [
        "print(diabetes.data)"
      ],
      "metadata": {
        "colab": {
          "base_uri": "https://localhost:8080/"
        },
        "id": "IwHFv5rysZEK",
        "outputId": "71841511-bbff-43e7-ba6b-b8c18097bd43"
      },
      "execution_count": 211,
      "outputs": [
        {
          "output_type": "stream",
          "name": "stdout",
          "text": [
            "[[ 0.03807591  0.05068012  0.06169621 ... -0.00259226  0.01990749\n",
            "  -0.01764613]\n",
            " [-0.00188202 -0.04464164 -0.05147406 ... -0.03949338 -0.06833155\n",
            "  -0.09220405]\n",
            " [ 0.08529891  0.05068012  0.04445121 ... -0.00259226  0.00286131\n",
            "  -0.02593034]\n",
            " ...\n",
            " [ 0.04170844  0.05068012 -0.01590626 ... -0.01107952 -0.04688253\n",
            "   0.01549073]\n",
            " [-0.04547248 -0.04464164  0.03906215 ...  0.02655962  0.04452873\n",
            "  -0.02593034]\n",
            " [-0.04547248 -0.04464164 -0.0730303  ... -0.03949338 -0.00422151\n",
            "   0.00306441]]\n"
          ]
        }
      ]
    },
    {
      "cell_type": "markdown",
      "source": [
        "### The target values contained within the dataset (soon to become the `y` matrix)."
      ],
      "metadata": {
        "id": "uK-k_X-EtDW2"
      }
    },
    {
      "cell_type": "code",
      "source": [
        "print(diabetes.target)"
      ],
      "metadata": {
        "colab": {
          "base_uri": "https://localhost:8080/"
        },
        "id": "8-t3RlHetHJH",
        "outputId": "1b998e41-ecfe-4508-e7fb-ffd1b4f39226"
      },
      "execution_count": 212,
      "outputs": [
        {
          "output_type": "stream",
          "name": "stdout",
          "text": [
            "[151.  75. 141. 206. 135.  97. 138.  63. 110. 310. 101.  69. 179. 185.\n",
            " 118. 171. 166. 144.  97. 168.  68.  49.  68. 245. 184. 202. 137.  85.\n",
            " 131. 283. 129.  59. 341.  87.  65. 102. 265. 276. 252.  90. 100.  55.\n",
            "  61.  92. 259.  53. 190. 142.  75. 142. 155. 225.  59. 104. 182. 128.\n",
            "  52.  37. 170. 170.  61. 144.  52. 128.  71. 163. 150.  97. 160. 178.\n",
            "  48. 270. 202. 111.  85.  42. 170. 200. 252. 113. 143.  51.  52. 210.\n",
            "  65. 141.  55. 134.  42. 111.  98. 164.  48.  96.  90. 162. 150. 279.\n",
            "  92.  83. 128. 102. 302. 198.  95.  53. 134. 144. 232.  81. 104.  59.\n",
            " 246. 297. 258. 229. 275. 281. 179. 200. 200. 173. 180.  84. 121. 161.\n",
            "  99. 109. 115. 268. 274. 158. 107.  83. 103. 272.  85. 280. 336. 281.\n",
            " 118. 317. 235.  60. 174. 259. 178. 128.  96. 126. 288.  88. 292.  71.\n",
            " 197. 186.  25.  84.  96. 195.  53. 217. 172. 131. 214.  59.  70. 220.\n",
            " 268. 152.  47.  74. 295. 101. 151. 127. 237. 225.  81. 151. 107.  64.\n",
            " 138. 185. 265. 101. 137. 143. 141.  79. 292. 178.  91. 116.  86. 122.\n",
            "  72. 129. 142.  90. 158.  39. 196. 222. 277.  99. 196. 202. 155.  77.\n",
            " 191.  70.  73.  49.  65. 263. 248. 296. 214. 185.  78.  93. 252. 150.\n",
            "  77. 208.  77. 108. 160.  53. 220. 154. 259.  90. 246. 124.  67.  72.\n",
            " 257. 262. 275. 177.  71.  47. 187. 125.  78.  51. 258. 215. 303. 243.\n",
            "  91. 150. 310. 153. 346.  63.  89.  50.  39. 103. 308. 116. 145.  74.\n",
            "  45. 115. 264.  87. 202. 127. 182. 241.  66.  94. 283.  64. 102. 200.\n",
            " 265.  94. 230. 181. 156. 233.  60. 219.  80.  68. 332. 248.  84. 200.\n",
            "  55.  85.  89.  31. 129.  83. 275.  65. 198. 236. 253. 124.  44. 172.\n",
            " 114. 142. 109. 180. 144. 163. 147.  97. 220. 190. 109. 191. 122. 230.\n",
            " 242. 248. 249. 192. 131. 237.  78. 135. 244. 199. 270. 164.  72.  96.\n",
            " 306.  91. 214.  95. 216. 263. 178. 113. 200. 139. 139.  88. 148.  88.\n",
            " 243.  71.  77. 109. 272.  60.  54. 221.  90. 311. 281. 182. 321.  58.\n",
            " 262. 206. 233. 242. 123. 167.  63. 197.  71. 168. 140. 217. 121. 235.\n",
            " 245.  40.  52. 104. 132.  88.  69. 219.  72. 201. 110.  51. 277.  63.\n",
            " 118.  69. 273. 258.  43. 198. 242. 232. 175.  93. 168. 275. 293. 281.\n",
            "  72. 140. 189. 181. 209. 136. 261. 113. 131. 174. 257.  55.  84.  42.\n",
            " 146. 212. 233.  91. 111. 152. 120.  67. 310.  94. 183.  66. 173.  72.\n",
            "  49.  64.  48. 178. 104. 132. 220.  57.]\n"
          ]
        }
      ]
    },
    {
      "cell_type": "markdown",
      "source": [
        "### The names of the attributes or features of the dataset."
      ],
      "metadata": {
        "id": "dLARSDWHtJAF"
      }
    },
    {
      "cell_type": "code",
      "source": [
        "print(diabetes.feature_names)"
      ],
      "metadata": {
        "colab": {
          "base_uri": "https://localhost:8080/"
        },
        "id": "TFBBGDNftP-d",
        "outputId": "8a8455aa-a891-43f6-8775-023298bb9448"
      },
      "execution_count": 213,
      "outputs": [
        {
          "output_type": "stream",
          "name": "stdout",
          "text": [
            "['age', 'sex', 'bmi', 'bp', 's1', 's2', 's3', 's4', 's5', 's6']\n"
          ]
        }
      ]
    },
    {
      "cell_type": "markdown",
      "source": [
        "### Setup The X and Y Matrices."
      ],
      "metadata": {
        "id": "PzyAbXmHurDc"
      }
    },
    {
      "cell_type": "code",
      "source": [
        "x, y = (diabetes.data, diabetes.target)"
      ],
      "metadata": {
        "id": "O5xgGRtyuelo"
      },
      "execution_count": 214,
      "outputs": []
    },
    {
      "cell_type": "markdown",
      "source": [
        "#### Verify the dimensions of the newly created matrices."
      ],
      "metadata": {
        "id": "6yUhRKNKxYuL"
      }
    },
    {
      "cell_type": "code",
      "source": [
        "print(f'nD matrix x created of shape: {x.shape}')\n",
        "print(f'nD matrix y created of shape: {y.shape}')"
      ],
      "metadata": {
        "colab": {
          "base_uri": "https://localhost:8080/"
        },
        "id": "NI1sgHIrvh_o",
        "outputId": "3b7dadc9-9ab0-430f-c55e-49226f47084f"
      },
      "execution_count": 215,
      "outputs": [
        {
          "output_type": "stream",
          "name": "stdout",
          "text": [
            "nD matrix x created of shape: (442, 10)\n",
            "nD matrix y created of shape: (442,)\n"
          ]
        }
      ]
    },
    {
      "cell_type": "markdown",
      "source": [
        "## Splitting the Data into Training and Testing Sets\n",
        "---\n",
        "We will be employing an *80:20 training-to-testing* ratio."
      ],
      "metadata": {
        "id": "KJhDxVNDvta2"
      }
    },
    {
      "cell_type": "code",
      "source": [
        "from sklearn.model_selection import train_test_split"
      ],
      "metadata": {
        "id": "GJTwHHc4yqyM"
      },
      "execution_count": 216,
      "outputs": []
    },
    {
      "cell_type": "code",
      "source": [
        "x_train, x_test, y_train, y_test = train_test_split(x, y, test_size = 0.2)"
      ],
      "metadata": {
        "id": "IrkG8HOhwBmP"
      },
      "execution_count": 217,
      "outputs": []
    },
    {
      "cell_type": "markdown",
      "source": [
        "### Verify dimensions and size of newly split data."
      ],
      "metadata": {
        "id": "iRuc9h1Lwe9Z"
      }
    },
    {
      "cell_type": "code",
      "source": [
        "print(f'training set x_train created of size: {x_train.shape}')\n",
        "print(f'training set y_train created of size: {y_train.shape}')"
      ],
      "metadata": {
        "colab": {
          "base_uri": "https://localhost:8080/"
        },
        "id": "JJUGmV4wwkxi",
        "outputId": "4bde0665-46fd-4775-fabf-5b13f709d2ba"
      },
      "execution_count": 218,
      "outputs": [
        {
          "output_type": "stream",
          "name": "stdout",
          "text": [
            "training set x_train created of size: (353, 10)\n",
            "training set y_train created of size: (353,)\n"
          ]
        }
      ]
    },
    {
      "cell_type": "code",
      "source": [
        "print(f'testing set x_test created of size: {x_test.shape}')\n",
        "print(f'testing set y_test created of size: {y_test.shape}')"
      ],
      "metadata": {
        "colab": {
          "base_uri": "https://localhost:8080/"
        },
        "id": "xIQVpKhUx94I",
        "outputId": "254b9abf-6e8e-440b-af1b-76844d9c5b85"
      },
      "execution_count": 219,
      "outputs": [
        {
          "output_type": "stream",
          "name": "stdout",
          "text": [
            "testing set x_test created of size: (89, 10)\n",
            "testing set y_test created of size: (89,)\n"
          ]
        }
      ]
    },
    {
      "cell_type": "markdown",
      "source": [
        "## Building the Linear Regression Model"
      ],
      "metadata": {
        "id": "ca23RMxozXS6"
      }
    },
    {
      "cell_type": "markdown",
      "source": [
        "### Import the relevant packages"
      ],
      "metadata": {
        "id": "eLA6dGlM0e6j"
      }
    },
    {
      "cell_type": "code",
      "source": [
        "from sklearn.linear_model import LinearRegression"
      ],
      "metadata": {
        "id": "mruuIUrhzkhS"
      },
      "execution_count": 220,
      "outputs": []
    },
    {
      "cell_type": "markdown",
      "source": [
        "### **Basic Model**"
      ],
      "metadata": {
        "id": "HSOVJRhqfQM7"
      }
    },
    {
      "cell_type": "markdown",
      "source": [
        "#### Define and Fit a Linear Regression Model"
      ],
      "metadata": {
        "id": "i-pXiBCk0Mmt"
      }
    },
    {
      "cell_type": "code",
      "source": [
        "model = LinearRegression().fit(X = x_train, y = y_train)"
      ],
      "metadata": {
        "id": "62rRRi_gzwf9"
      },
      "execution_count": 221,
      "outputs": []
    },
    {
      "cell_type": "markdown",
      "source": [
        "#### *Model Inspection*"
      ],
      "metadata": {
        "id": "Q8FBteMn3LIS"
      }
    },
    {
      "cell_type": "markdown",
      "source": [
        "##### The *weight* assigned to each feature of the model."
      ],
      "metadata": {
        "id": "CkwybX2O80jp"
      }
    },
    {
      "cell_type": "code",
      "source": [
        "feature_weights = dict(zip(diabetes.feature_names, model.coef_))\n",
        "print(f'Feature {\"Weight\":>12}\\n{\"-\"*20}')\n",
        "for feature, weight in feature_weights.items():\n",
        "    print(f'{feature.ljust(8)}{weight:>12.02f}')"
      ],
      "metadata": {
        "id": "U1jeQuEa3UvB",
        "colab": {
          "base_uri": "https://localhost:8080/"
        },
        "outputId": "3bc594c7-8ed5-44a1-b5a2-c7ad17c35b34"
      },
      "execution_count": 222,
      "outputs": [
        {
          "output_type": "stream",
          "name": "stdout",
          "text": [
            "Feature       Weight\n",
            "--------------------\n",
            "age             8.40\n",
            "sex          -273.76\n",
            "bmi           513.08\n",
            "bp            342.61\n",
            "s1           -841.29\n",
            "s2            477.03\n",
            "s3             89.06\n",
            "s4            176.85\n",
            "s5            787.58\n",
            "s6             69.37\n"
          ]
        }
      ]
    },
    {
      "cell_type": "markdown",
      "source": [
        "##### The *Equation* of The Model\n",
        "---\n",
        "The Equation of the Fitted Line Employed In The Linear Regression Model."
      ],
      "metadata": {
        "id": "prDBlzBr-dMk"
      }
    },
    {
      "cell_type": "code",
      "source": [
        "equation = '\\n    + '.join([f'({weight:0.2f})({feature})' for feature, weight in feature_weights.items()])\n",
        "print(f'Y =   {equation}')"
      ],
      "metadata": {
        "id": "Bwz1kBG0-iYk",
        "colab": {
          "base_uri": "https://localhost:8080/"
        },
        "outputId": "baf69775-f08b-47a7-fee0-252131103aa7"
      },
      "execution_count": 223,
      "outputs": [
        {
          "output_type": "stream",
          "name": "stdout",
          "text": [
            "Y =   (8.40)(age)\n",
            "    + (-273.76)(sex)\n",
            "    + (513.08)(bmi)\n",
            "    + (342.61)(bp)\n",
            "    + (-841.29)(s1)\n",
            "    + (477.03)(s2)\n",
            "    + (89.06)(s3)\n",
            "    + (176.85)(s4)\n",
            "    + (787.58)(s5)\n",
            "    + (69.37)(s6)\n"
          ]
        }
      ]
    },
    {
      "cell_type": "markdown",
      "source": [
        "#### Apply this *basic* model in order to make a prediction on the test set."
      ],
      "metadata": {
        "id": "O3dXCq8a0jWq"
      }
    },
    {
      "cell_type": "code",
      "source": [
        "y_pred = model.predict(X = x_test)"
      ],
      "metadata": {
        "id": "cFQBowZi03bm"
      },
      "execution_count": 224,
      "outputs": []
    },
    {
      "cell_type": "markdown",
      "source": [
        "### **Tuned Model**"
      ],
      "metadata": {
        "id": "39ZzaVbslc0G"
      }
    },
    {
      "cell_type": "markdown",
      "source": [
        "In Basic Linear Regression, there exists no hyperparameters other than `fit_intercept`.\n",
        "Setting this to `False`, its default being `True`, you are essentially telling the model to not calculate an intercept for the line.\n",
        "This presumes that the data is preprocessed to be centered.\n",
        " > Setting this to `False` in this situation would result in a negative impact on model performance and accuracy.\n"
      ],
      "metadata": {
        "id": "7qCFYpXyrU9j"
      }
    },
    {
      "cell_type": "markdown",
      "source": [
        "Derivative models of Linear Regression such as Ridge or Lasso provide hyperparameters which may be tuned."
      ],
      "metadata": {
        "id": "1E4te6EdrXbg"
      }
    },
    {
      "cell_type": "markdown",
      "source": [
        "## Evaluating the Model's Performance\n",
        "---\n",
        "The Basic Linear Regression Model, as we previously established that the basic Linear Regression Model has no *real* hyperparameters to tune."
      ],
      "metadata": {
        "id": "97aK5Gi_eraA"
      }
    },
    {
      "cell_type": "code",
      "source": [
        "from sklearn.metrics import r2_score, mean_squared_error"
      ],
      "metadata": {
        "id": "rxdb_3fuyZZN"
      },
      "execution_count": 225,
      "outputs": []
    },
    {
      "cell_type": "markdown",
      "source": [
        "##### The R^2 Score\n",
        "---\n",
        "The proportion of the variance for a dependent variable."
      ],
      "metadata": {
        "id": "jb1EKI24fz7Q"
      }
    },
    {
      "cell_type": "code",
      "source": [
        "print(f'R^2 Score:\\n{\"-\"*10}\\n{r2_score(y_test, y_pred):10.2f}')"
      ],
      "metadata": {
        "colab": {
          "base_uri": "https://localhost:8080/"
        },
        "id": "r3VdoHt_etgg",
        "outputId": "afa173e3-2a4d-42b5-db72-fb9cce9ca462"
      },
      "execution_count": 226,
      "outputs": [
        {
          "output_type": "stream",
          "name": "stdout",
          "text": [
            "R^2 Score:\n",
            "----------\n",
            "      0.42\n"
          ]
        }
      ]
    },
    {
      "cell_type": "markdown",
      "source": [
        "##### The Mean Squared Error\n",
        "---\n",
        "The average squared difference between the estimated values and the actual value."
      ],
      "metadata": {
        "id": "wFYH-0Uph_Y_"
      }
    },
    {
      "cell_type": "code",
      "source": [
        "print(f'Mean Squared Error:\\n{\"-\"*19}\\n{mean_squared_error(y_test, y_pred):19.2f}')"
      ],
      "metadata": {
        "colab": {
          "base_uri": "https://localhost:8080/"
        },
        "id": "ARDr9HEMiKVi",
        "outputId": "328df92b-305e-4066-92f6-3d60951989b6"
      },
      "execution_count": 227,
      "outputs": [
        {
          "output_type": "stream",
          "name": "stdout",
          "text": [
            "Mean Squared Error:\n",
            "-------------------\n",
            "            3470.87\n"
          ]
        }
      ]
    },
    {
      "cell_type": "markdown",
      "source": [
        "##### Visualization\n",
        "---"
      ],
      "metadata": {
        "id": "ao-KMKawog_t"
      }
    },
    {
      "cell_type": "code",
      "source": [
        "from matplotlib import pyplot\n",
        "\n",
        "pyplot.scatter(y_test, y_pred, label='Actual vs. Predicted')\n",
        "pyplot.plot([min(y_test), max(y_test)], [min(y_test), max(y_test)], color='red')\n",
        "pyplot.xlabel('Test Data')\n",
        "pyplot.ylabel('Prediction')\n",
        "pyplot.legend()\n",
        "pyplot.show()\n"
      ],
      "metadata": {
        "colab": {
          "base_uri": "https://localhost:8080/",
          "height": 449
        },
        "id": "Q422M6Z2ofcc",
        "outputId": "20d83dc1-214a-4090-f5f8-efc7c88f005d"
      },
      "execution_count": 228,
      "outputs": [
        {
          "output_type": "display_data",
          "data": {
            "text/plain": [
              "<Figure size 640x480 with 1 Axes>"
            ],
            "image/png": "[encoded data removed]"
          },
          "metadata": {}
        }
      ]
    },
    {
      "cell_type": "markdown",
      "source": [
        "# **II. Logistic Regression**\n",
        "---\n",
        "This model will be working with the *Iris* dataset."
      ],
      "metadata": {
        "id": "6SD6jmUAu08p"
      }
    },
    {
      "cell_type": "markdown",
      "source": [
        "## Import the *Iris* data helper"
      ],
      "metadata": {
        "id": "oMz3XilbvGVe"
      }
    },
    {
      "cell_type": "code",
      "source": [
        "from sklearn.datasets import load_iris"
      ],
      "metadata": {
        "id": "9bcwFFZKvU9e"
      },
      "execution_count": 229,
      "outputs": []
    },
    {
      "cell_type": "markdown",
      "source": [
        "## Load the *Iris* Data Set"
      ],
      "metadata": {
        "id": "tPwp8Qqevahp"
      }
    },
    {
      "cell_type": "code",
      "source": [
        "iris = load_iris()"
      ],
      "metadata": {
        "id": "Z48vvzmEvfUM"
      },
      "execution_count": 271,
      "outputs": []
    },
    {
      "cell_type": "markdown",
      "source": [
        "### A description of the data set."
      ],
      "metadata": {
        "id": "iVY9RwTjvwU9"
      }
    },
    {
      "cell_type": "code",
      "source": [
        "print(iris.DESCR)"
      ],
      "metadata": {
        "colab": {
          "base_uri": "https://localhost:8080/"
        },
        "id": "nL-DeuDTv0mX",
        "outputId": "4eba4df0-589f-4454-f2a6-3a91e593aeaa"
      },
      "execution_count": 272,
      "outputs": [
        {
          "output_type": "stream",
          "name": "stdout",
          "text": [
            ".. _iris_dataset:\n",
            "\n",
            "Iris plants dataset\n",
            "--------------------\n",
            "\n",
            "**Data Set Characteristics:**\n",
            "\n",
            "    :Number of Instances: 150 (50 in each of three classes)\n",
            "    :Number of Attributes: 4 numeric, predictive attributes and the class\n",
            "    :Attribute Information:\n",
            "        - sepal length in cm\n",
            "        - sepal width in cm\n",
            "        - petal length in cm\n",
            "        - petal width in cm\n",
            "        - class:\n",
            "                - Iris-Setosa\n",
            "                - Iris-Versicolour\n",
            "                - Iris-Virginica\n",
            "                \n",
            "    :Summary Statistics:\n",
            "\n",
            "    ============== ==== ==== ======= ===== ====================\n",
            "                    Min  Max   Mean    SD   Class Correlation\n",
            "    ============== ==== ==== ======= ===== ====================\n",
            "    sepal length:   4.3  7.9   5.84   0.83    0.7826\n",
            "    sepal width:    2.0  4.4   3.05   0.43   -0.4194\n",
            "    petal length:   1.0  6.9   3.76   1.76    0.9490  (high!)\n",
            "    petal width:    0.1  2.5   1.20   0.76    0.9565  (high!)\n",
            "    ============== ==== ==== ======= ===== ====================\n",
            "\n",
            "    :Missing Attribute Values: None\n",
            "    :Class Distribution: 33.3% for each of 3 classes.\n",
            "    :Creator: R.A. Fisher\n",
            "    :Donor: Michael Marshall (MARSHALL%PLU@io.arc.nasa.gov)\n",
            "    :Date: July, 1988\n",
            "\n",
            "The famous Iris database, first used by Sir R.A. Fisher. The dataset is taken\n",
            "from Fisher's paper. Note that it's the same as in R, but not as in the UCI\n",
            "Machine Learning Repository, which has two wrong data points.\n",
            "\n",
            "This is perhaps the best known database to be found in the\n",
            "pattern recognition literature.  Fisher's paper is a classic in the field and\n",
            "is referenced frequently to this day.  (See Duda & Hart, for example.)  The\n",
            "data set contains 3 classes of 50 instances each, where each class refers to a\n",
            "type of iris plant.  One class is linearly separable from the other 2; the\n",
            "latter are NOT linearly separable from each other.\n",
            "\n",
            ".. topic:: References\n",
            "\n",
            "   - Fisher, R.A. \"The use of multiple measurements in taxonomic problems\"\n",
            "     Annual Eugenics, 7, Part II, 179-188 (1936); also in \"Contributions to\n",
            "     Mathematical Statistics\" (John Wiley, NY, 1950).\n",
            "   - Duda, R.O., & Hart, P.E. (1973) Pattern Classification and Scene Analysis.\n",
            "     (Q327.D83) John Wiley & Sons.  ISBN 0-471-22361-1.  See page 218.\n",
            "   - Dasarathy, B.V. (1980) \"Nosing Around the Neighborhood: A New System\n",
            "     Structure and Classification Rule for Recognition in Partially Exposed\n",
            "     Environments\".  IEEE Transactions on Pattern Analysis and Machine\n",
            "     Intelligence, Vol. PAMI-2, No. 1, 67-71.\n",
            "   - Gates, G.W. (1972) \"The Reduced Nearest Neighbor Rule\".  IEEE Transactions\n",
            "     on Information Theory, May 1972, 431-433.\n",
            "   - See also: 1988 MLC Proceedings, 54-64.  Cheeseman et al\"s AUTOCLASS II\n",
            "     conceptual clustering system finds 3 classes in the data.\n",
            "   - Many, many more ...\n"
          ]
        }
      ]
    },
    {
      "cell_type": "markdown",
      "source": [
        "### The data contained within the dataset (soon to become the `x` matrix)."
      ],
      "metadata": {
        "id": "XS3RRHPZv-jK"
      }
    },
    {
      "cell_type": "code",
      "source": [
        "print(iris.data)"
      ],
      "metadata": {
        "colab": {
          "base_uri": "https://localhost:8080/"
        },
        "id": "aVimVNMRv_Q8",
        "outputId": "836ef24d-339f-47ac-acf1-1cba06bcb39b"
      },
      "execution_count": 273,
      "outputs": [
        {
          "output_type": "stream",
          "name": "stdout",
          "text": [
            "[[5.1 3.5 1.4 0.2]\n",
            " [4.9 3.  1.4 0.2]\n",
            " [4.7 3.2 1.3 0.2]\n",
            " [4.6 3.1 1.5 0.2]\n",
            " [5.  3.6 1.4 0.2]\n",
            " [5.4 3.9 1.7 0.4]\n",
            " [4.6 3.4 1.4 0.3]\n",
            " [5.  3.4 1.5 0.2]\n",
            " [4.4 2.9 1.4 0.2]\n",
            " [4.9 3.1 1.5 0.1]\n",
            " [5.4 3.7 1.5 0.2]\n",
            " [4.8 3.4 1.6 0.2]\n",
            " [4.8 3.  1.4 0.1]\n",
            " [4.3 3.  1.1 0.1]\n",
            " [5.8 4.  1.2 0.2]\n",
            " [5.7 4.4 1.5 0.4]\n",
            " [5.4 3.9 1.3 0.4]\n",
            " [5.1 3.5 1.4 0.3]\n",
            " [5.7 3.8 1.7 0.3]\n",
            " [5.1 3.8 1.5 0.3]\n",
            " [5.4 3.4 1.7 0.2]\n",
            " [5.1 3.7 1.5 0.4]\n",
            " [4.6 3.6 1.  0.2]\n",
            " [5.1 3.3 1.7 0.5]\n",
            " [4.8 3.4 1.9 0.2]\n",
            " [5.  3.  1.6 0.2]\n",
            " [5.  3.4 1.6 0.4]\n",
            " [5.2 3.5 1.5 0.2]\n",
            " [5.2 3.4 1.4 0.2]\n",
            " [4.7 3.2 1.6 0.2]\n",
            " [4.8 3.1 1.6 0.2]\n",
            " [5.4 3.4 1.5 0.4]\n",
            " [5.2 4.1 1.5 0.1]\n",
            " [5.5 4.2 1.4 0.2]\n",
            " [4.9 3.1 1.5 0.2]\n",
            " [5.  3.2 1.2 0.2]\n",
            " [5.5 3.5 1.3 0.2]\n",
            " [4.9 3.6 1.4 0.1]\n",
            " [4.4 3.  1.3 0.2]\n",
            " [5.1 3.4 1.5 0.2]\n",
            " [5.  3.5 1.3 0.3]\n",
            " [4.5 2.3 1.3 0.3]\n",
            " [4.4 3.2 1.3 0.2]\n",
            " [5.  3.5 1.6 0.6]\n",
            " [5.1 3.8 1.9 0.4]\n",
            " [4.8 3.  1.4 0.3]\n",
            " [5.1 3.8 1.6 0.2]\n",
            " [4.6 3.2 1.4 0.2]\n",
            " [5.3 3.7 1.5 0.2]\n",
            " [5.  3.3 1.4 0.2]\n",
            " [7.  3.2 4.7 1.4]\n",
            " [6.4 3.2 4.5 1.5]\n",
            " [6.9 3.1 4.9 1.5]\n",
            " [5.5 2.3 4.  1.3]\n",
            " [6.5 2.8 4.6 1.5]\n",
            " [5.7 2.8 4.5 1.3]\n",
            " [6.3 3.3 4.7 1.6]\n",
            " [4.9 2.4 3.3 1. ]\n",
            " [6.6 2.9 4.6 1.3]\n",
            " [5.2 2.7 3.9 1.4]\n",
            " [5.  2.  3.5 1. ]\n",
            " [5.9 3.  4.2 1.5]\n",
            " [6.  2.2 4.  1. ]\n",
            " [6.1 2.9 4.7 1.4]\n",
            " [5.6 2.9 3.6 1.3]\n",
            " [6.7 3.1 4.4 1.4]\n",
            " [5.6 3.  4.5 1.5]\n",
            " [5.8 2.7 4.1 1. ]\n",
            " [6.2 2.2 4.5 1.5]\n",
            " [5.6 2.5 3.9 1.1]\n",
            " [5.9 3.2 4.8 1.8]\n",
            " [6.1 2.8 4.  1.3]\n",
            " [6.3 2.5 4.9 1.5]\n",
            " [6.1 2.8 4.7 1.2]\n",
            " [6.4 2.9 4.3 1.3]\n",
            " [6.6 3.  4.4 1.4]\n",
            " [6.8 2.8 4.8 1.4]\n",
            " [6.7 3.  5.  1.7]\n",
            " [6.  2.9 4.5 1.5]\n",
            " [5.7 2.6 3.5 1. ]\n",
            " [5.5 2.4 3.8 1.1]\n",
            " [5.5 2.4 3.7 1. ]\n",
            " [5.8 2.7 3.9 1.2]\n",
            " [6.  2.7 5.1 1.6]\n",
            " [5.4 3.  4.5 1.5]\n",
            " [6.  3.4 4.5 1.6]\n",
            " [6.7 3.1 4.7 1.5]\n",
            " [6.3 2.3 4.4 1.3]\n",
            " [5.6 3.  4.1 1.3]\n",
            " [5.5 2.5 4.  1.3]\n",
            " [5.5 2.6 4.4 1.2]\n",
            " [6.1 3.  4.6 1.4]\n",
            " [5.8 2.6 4.  1.2]\n",
            " [5.  2.3 3.3 1. ]\n",
            " [5.6 2.7 4.2 1.3]\n",
            " [5.7 3.  4.2 1.2]\n",
            " [5.7 2.9 4.2 1.3]\n",
            " [6.2 2.9 4.3 1.3]\n",
            " [5.1 2.5 3.  1.1]\n",
            " [5.7 2.8 4.1 1.3]\n",
            " [6.3 3.3 6.  2.5]\n",
            " [5.8 2.7 5.1 1.9]\n",
            " [7.1 3.  5.9 2.1]\n",
            " [6.3 2.9 5.6 1.8]\n",
            " [6.5 3.  5.8 2.2]\n",
            " [7.6 3.  6.6 2.1]\n",
            " [4.9 2.5 4.5 1.7]\n",
            " [7.3 2.9 6.3 1.8]\n",
            " [6.7 2.5 5.8 1.8]\n",
            " [7.2 3.6 6.1 2.5]\n",
            " [6.5 3.2 5.1 2. ]\n",
            " [6.4 2.7 5.3 1.9]\n",
            " [6.8 3.  5.5 2.1]\n",
            " [5.7 2.5 5.  2. ]\n",
            " [5.8 2.8 5.1 2.4]\n",
            " [6.4 3.2 5.3 2.3]\n",
            " [6.5 3.  5.5 1.8]\n",
            " [7.7 3.8 6.7 2.2]\n",
            " [7.7 2.6 6.9 2.3]\n",
            " [6.  2.2 5.  1.5]\n",
            " [6.9 3.2 5.7 2.3]\n",
            " [5.6 2.8 4.9 2. ]\n",
            " [7.7 2.8 6.7 2. ]\n",
            " [6.3 2.7 4.9 1.8]\n",
            " [6.7 3.3 5.7 2.1]\n",
            " [7.2 3.2 6.  1.8]\n",
            " [6.2 2.8 4.8 1.8]\n",
            " [6.1 3.  4.9 1.8]\n",
            " [6.4 2.8 5.6 2.1]\n",
            " [7.2 3.  5.8 1.6]\n",
            " [7.4 2.8 6.1 1.9]\n",
            " [7.9 3.8 6.4 2. ]\n",
            " [6.4 2.8 5.6 2.2]\n",
            " [6.3 2.8 5.1 1.5]\n",
            " [6.1 2.6 5.6 1.4]\n",
            " [7.7 3.  6.1 2.3]\n",
            " [6.3 3.4 5.6 2.4]\n",
            " [6.4 3.1 5.5 1.8]\n",
            " [6.  3.  4.8 1.8]\n",
            " [6.9 3.1 5.4 2.1]\n",
            " [6.7 3.1 5.6 2.4]\n",
            " [6.9 3.1 5.1 2.3]\n",
            " [5.8 2.7 5.1 1.9]\n",
            " [6.8 3.2 5.9 2.3]\n",
            " [6.7 3.3 5.7 2.5]\n",
            " [6.7 3.  5.2 2.3]\n",
            " [6.3 2.5 5.  1.9]\n",
            " [6.5 3.  5.2 2. ]\n",
            " [6.2 3.4 5.4 2.3]\n",
            " [5.9 3.  5.1 1.8]]\n"
          ]
        }
      ]
    },
    {
      "cell_type": "markdown",
      "source": [
        "### The target values contained within the dataset (soon to become the `y` matrix)."
      ],
      "metadata": {
        "id": "op0EIxmZwjzF"
      }
    },
    {
      "cell_type": "code",
      "source": [
        "print(iris.target)"
      ],
      "metadata": {
        "colab": {
          "base_uri": "https://localhost:8080/"
        },
        "id": "BxyPOsWGwk7T",
        "outputId": "305f58d8-1bd1-484a-c724-24c8b8b17bbf"
      },
      "execution_count": 274,
      "outputs": [
        {
          "output_type": "stream",
          "name": "stdout",
          "text": [
            "[0 0 0 0 0 0 0 0 0 0 0 0 0 0 0 0 0 0 0 0 0 0 0 0 0 0 0 0 0 0 0 0 0 0 0 0 0\n",
            " 0 0 0 0 0 0 0 0 0 0 0 0 0 1 1 1 1 1 1 1 1 1 1 1 1 1 1 1 1 1 1 1 1 1 1 1 1\n",
            " 1 1 1 1 1 1 1 1 1 1 1 1 1 1 1 1 1 1 1 1 1 1 1 1 1 1 2 2 2 2 2 2 2 2 2 2 2\n",
            " 2 2 2 2 2 2 2 2 2 2 2 2 2 2 2 2 2 2 2 2 2 2 2 2 2 2 2 2 2 2 2 2 2 2 2 2 2\n",
            " 2 2]\n"
          ]
        }
      ]
    },
    {
      "cell_type": "markdown",
      "source": [
        "### The names of the attributes or features of the dataset."
      ],
      "metadata": {
        "id": "HcelAdKlwnzU"
      }
    },
    {
      "cell_type": "code",
      "source": [
        "print(iris.feature_names)"
      ],
      "metadata": {
        "colab": {
          "base_uri": "https://localhost:8080/"
        },
        "id": "QO3XEyCswpgH",
        "outputId": "dad9bf65-b365-43b3-e3d0-a8ddf1abc6e9"
      },
      "execution_count": 275,
      "outputs": [
        {
          "output_type": "stream",
          "name": "stdout",
          "text": [
            "['sepal length (cm)', 'sepal width (cm)', 'petal length (cm)', 'petal width (cm)']\n"
          ]
        }
      ]
    },
    {
      "cell_type": "markdown",
      "source": [
        "### Setup The X and Y Matrices."
      ],
      "metadata": {
        "id": "nxcONos-wtaO"
      }
    },
    {
      "cell_type": "code",
      "source": [
        "x, y = (iris.data, iris.target)"
      ],
      "metadata": {
        "id": "6XS9j5jGwvjc"
      },
      "execution_count": 276,
      "outputs": []
    },
    {
      "cell_type": "markdown",
      "source": [
        "#### Verify the dimensions of the newly created matrices."
      ],
      "metadata": {
        "id": "GRbMQ2Orw5Pm"
      }
    },
    {
      "cell_type": "code",
      "source": [
        "print(f'nD matrix x created of shape: {x.shape}')\n",
        "print(f'nD matrix y created of shape: {y.shape}')"
      ],
      "metadata": {
        "colab": {
          "base_uri": "https://localhost:8080/"
        },
        "id": "QMCYP8R2w8Ai",
        "outputId": "a65b512d-8a2a-4498-e05a-b7964749a304"
      },
      "execution_count": 277,
      "outputs": [
        {
          "output_type": "stream",
          "name": "stdout",
          "text": [
            "nD matrix x created of shape: (150, 4)\n",
            "nD matrix y created of shape: (150,)\n"
          ]
        }
      ]
    },
    {
      "cell_type": "markdown",
      "source": [
        "## Splitting the Data into Training and Testing Sets\n",
        "---\n",
        "We will be employing an *80:20 training-to-testing* ratio."
      ],
      "metadata": {
        "id": "gbUorKU3xDn0"
      }
    },
    {
      "cell_type": "code",
      "source": [
        "from sklearn.model_selection import train_test_split"
      ],
      "metadata": {
        "id": "TBpmQn5cxHEZ"
      },
      "execution_count": 278,
      "outputs": []
    },
    {
      "cell_type": "code",
      "source": [
        "x_train, x_test, y_train, y_test = train_test_split(x, y, test_size = 0.2)"
      ],
      "metadata": {
        "id": "DNM7o7VUxHnC"
      },
      "execution_count": 279,
      "outputs": []
    },
    {
      "cell_type": "markdown",
      "source": [
        "#### Data Preprocessing: Standarize/Scale Features\n"
      ],
      "metadata": {
        "id": "MBXxOFuNS2sl"
      }
    },
    {
      "cell_type": "code",
      "source": [
        "from sklearn.preprocessing import StandardScaler\n",
        "\n",
        "scaler = StandardScaler()\n",
        "x_train = scaler.fit_transform(x_train)\n",
        "x_test = scaler.transform(x_test)"
      ],
      "metadata": {
        "id": "tinOQdq4S4h9"
      },
      "execution_count": 280,
      "outputs": []
    },
    {
      "cell_type": "markdown",
      "source": [
        "### Verify dimensions and size of newly split data."
      ],
      "metadata": {
        "id": "DHj9Q6HhxMak"
      }
    },
    {
      "cell_type": "code",
      "source": [
        "print(f'training set x_train created of size: {x_train.shape}')\n",
        "print(f'training set y_train created of size: {y_train.shape}')"
      ],
      "metadata": {
        "colab": {
          "base_uri": "https://localhost:8080/"
        },
        "id": "c0v1Qg6XxPN_",
        "outputId": "6eb811bc-a2c1-48ff-cea2-d6b3972ee0f8"
      },
      "execution_count": 281,
      "outputs": [
        {
          "output_type": "stream",
          "name": "stdout",
          "text": [
            "training set x_train created of size: (120, 4)\n",
            "training set y_train created of size: (120,)\n"
          ]
        }
      ]
    },
    {
      "cell_type": "code",
      "source": [
        "print(f'testing set x_test created of size: {x_test.shape}')\n",
        "print(f'testing set y_test created of size: {y_test.shape}')"
      ],
      "metadata": {
        "colab": {
          "base_uri": "https://localhost:8080/"
        },
        "id": "B6OEtSoOxRGD",
        "outputId": "59dd04c5-caef-4141-f784-826dd186cba5"
      },
      "execution_count": 282,
      "outputs": [
        {
          "output_type": "stream",
          "name": "stdout",
          "text": [
            "testing set x_test created of size: (30, 4)\n",
            "testing set y_test created of size: (30,)\n"
          ]
        }
      ]
    },
    {
      "cell_type": "markdown",
      "source": [
        "## Building the Logistic Regression Model"
      ],
      "metadata": {
        "id": "hX1PPFsxxV7_"
      }
    },
    {
      "cell_type": "markdown",
      "source": [
        "### Import the relevant packages"
      ],
      "metadata": {
        "id": "BevOFPXjyMMg"
      }
    },
    {
      "cell_type": "code",
      "source": [
        "from sklearn.linear_model import LogisticRegression"
      ],
      "metadata": {
        "id": "DmopVeiiycRm"
      },
      "execution_count": 241,
      "outputs": []
    },
    {
      "cell_type": "markdown",
      "source": [
        "### **Basic Model**"
      ],
      "metadata": {
        "id": "GTB1DHtqxw-9"
      }
    },
    {
      "cell_type": "markdown",
      "source": [
        "#### Define and Fit a Logistic Regression Model"
      ],
      "metadata": {
        "id": "KcRmQ0Q-yE8V"
      }
    },
    {
      "cell_type": "code",
      "source": [
        "model = LogisticRegression(multi_class='multinomial', solver='lbfgs').fit(X = x_train, y = y_train)"
      ],
      "metadata": {
        "id": "ZKJJGGwByIjl"
      },
      "execution_count": 286,
      "outputs": []
    },
    {
      "cell_type": "markdown",
      "source": [
        "#### *Model Inspection*"
      ],
      "metadata": {
        "id": "S3zKpQOczhye"
      }
    },
    {
      "cell_type": "markdown",
      "source": [
        "##### The *classes* of the model."
      ],
      "metadata": {
        "id": "PHvY7Izf3bxD"
      }
    },
    {
      "cell_type": "code",
      "source": [
        "max_len = max([len(name) for name in iris.feature_names])\n",
        "\n",
        "class_names = dict(zip(model.classes_, iris.target_names))\n",
        "print(f'{\"Class\":{max_len}}\\t{\"Target\".rjust(6)}\\n{\"-\"*(max_len+13)}')\n",
        "for target_value, class_name in class_names.items():\n",
        "    print(f'{class_name:{max_len}}\\t{target_value:>6}')"
      ],
      "metadata": {
        "colab": {
          "base_uri": "https://localhost:8080/"
        },
        "id": "2pd5Q7hL3iJR",
        "outputId": "d16b714b-7aea-4327-b084-21df4ac3dc57"
      },
      "execution_count": 287,
      "outputs": [
        {
          "output_type": "stream",
          "name": "stdout",
          "text": [
            "Class            \tTarget\n",
            "------------------------------\n",
            "setosa           \t     0\n",
            "versicolor       \t     1\n",
            "virginica        \t     2\n"
          ]
        }
      ]
    },
    {
      "cell_type": "markdown",
      "source": [
        "##### The *intercepts* of the model."
      ],
      "metadata": {
        "id": "ST1RYvL43yAj"
      }
    },
    {
      "cell_type": "code",
      "source": [
        "max_len = max([len(name) for name in iris.feature_names])\n",
        "print(f'Intercepts\\n{\"-\"*(max_len*2)}')\n",
        "for target_class, intercept in dict(zip(iris.target_names, \\\n",
        "    [float(f'{intercept:0.2f}') for intercept in model.intercept_])).items():\n",
        "    print(f'{target_class:{max_len}}\\t{intercept:>10.2f}')"
      ],
      "metadata": {
        "colab": {
          "base_uri": "https://localhost:8080/"
        },
        "id": "wQ8vjgHz3rg-",
        "outputId": "6ac18015-097c-4ef5-85d4-dfc55a74c19e"
      },
      "execution_count": 288,
      "outputs": [
        {
          "output_type": "stream",
          "name": "stdout",
          "text": [
            "Intercepts\n",
            "----------------------------------\n",
            "setosa           \t     -0.21\n",
            "versicolor       \t      1.88\n",
            "virginica        \t     -1.68\n"
          ]
        }
      ]
    },
    {
      "cell_type": "markdown",
      "source": [
        "##### The *coefficients* of the model."
      ],
      "metadata": {
        "id": "V-4KIXyu31Bk"
      }
    },
    {
      "cell_type": "code",
      "source": [
        "max_len = max([len(name) for name in iris.feature_names])\n",
        "\n",
        "for target_class, features in dict(zip(iris.target_names, \\\n",
        "    [dict(zip(iris.feature_names, \\\n",
        "        [float(f'{coef:0.2f}') for coef in coefs])) \\\n",
        "            for coefs in model.coef_])).items():\n",
        "    print(f'{target_class}\\n{\"-\"*len(target_class)}')\n",
        "    print(f'\\t{\"feature\":{max_len}}\\tcoef\\n\\t{\"-\"*(max_len+11)}')\n",
        "    for feature, coef in features.items():\n",
        "        print(f'\\t{feature:{max_len}}{coef:>11.2f}')\n",
        "    print()"
      ],
      "metadata": {
        "colab": {
          "base_uri": "https://localhost:8080/"
        },
        "id": "LLt3UBQG3r9j",
        "outputId": "45beef22-07c2-41bb-e343-263d197f3077"
      },
      "execution_count": 289,
      "outputs": [
        {
          "output_type": "stream",
          "name": "stdout",
          "text": [
            "setosa\n",
            "------\n",
            "\tfeature          \tcoef\n",
            "\t----------------------------\n",
            "\tsepal length (cm)      -1.01\n",
            "\tsepal width (cm)        1.13\n",
            "\tpetal length (cm)      -1.79\n",
            "\tpetal width (cm)       -1.67\n",
            "\n",
            "versicolor\n",
            "----------\n",
            "\tfeature          \tcoef\n",
            "\t----------------------------\n",
            "\tsepal length (cm)       0.53\n",
            "\tsepal width (cm)       -0.36\n",
            "\tpetal length (cm)      -0.36\n",
            "\tpetal width (cm)       -0.71\n",
            "\n",
            "virginica\n",
            "---------\n",
            "\tfeature          \tcoef\n",
            "\t----------------------------\n",
            "\tsepal length (cm)       0.48\n",
            "\tsepal width (cm)       -0.77\n",
            "\tpetal length (cm)       2.15\n",
            "\tpetal width (cm)        2.38\n",
            "\n"
          ]
        }
      ]
    },
    {
      "cell_type": "markdown",
      "source": [
        "#### Apply this *basic* model in order to make a prediction on the test set."
      ],
      "metadata": {
        "id": "RoV4gFK048DY"
      }
    },
    {
      "cell_type": "code",
      "source": [
        "y_pred = model.predict(X = x_test)"
      ],
      "metadata": {
        "id": "COJ4wXly5AI5"
      },
      "execution_count": 290,
      "outputs": []
    },
    {
      "cell_type": "markdown",
      "source": [
        "### **Tuned Model**"
      ],
      "metadata": {
        "id": "J5nrBXnZ5kAT"
      }
    },
    {
      "cell_type": "markdown",
      "source": [
        "#### Evaluating The Best *Hyperparameter Combination*\n",
        "---\n",
        "Evaluating best choices of `C`: *inverse of regularization strength* and `max_iter`: *maximum number of iterations taken for the solvers to converge*.\n",
        "\n",
        "Employ the default `cross-validation` spliting stragery of *5-fold*."
      ],
      "metadata": {
        "id": "gF5A28w1FpsS"
      }
    },
    {
      "cell_type": "code",
      "source": [
        "from sklearn.model_selection import GridSearchCV\n",
        "\n",
        "hyperparameters = {\n",
        "    'C':  [0.25, 25, 50, 100],\n",
        "    'max_iter': [250, 500, 750, 1000]\n",
        "}\n",
        "\n",
        "grid_search = GridSearchCV(model, hyperparameters, cv=5, scoring='accuracy').fit(x_train, y_train)"
      ],
      "metadata": {
        "id": "rIjKMObmF4R1"
      },
      "execution_count": 297,
      "outputs": []
    },
    {
      "cell_type": "markdown",
      "source": [
        "#### Visualizing Performance Based on Hyperparameter Choices"
      ],
      "metadata": {
        "id": "hGp7lskaNmgB"
      }
    },
    {
      "cell_type": "code",
      "source": [
        "from matplotlib import pyplot\n",
        "\n",
        "pyplot.barh([str(param) for param in grid_search.cv_results_['params']], \\\n",
        "            grid_search.cv_results_['mean_test_score'])\n",
        "\n",
        "pyplot.xlabel('Accuracy')\n",
        "pyplot.ylabel('Hyperparameters')\n",
        "pyplot.title('Tuning Results')\n",
        "\n",
        "pyplot.gca().invert_yaxis()\n",
        "pyplot.show()"
      ],
      "metadata": {
        "colab": {
          "base_uri": "https://localhost:8080/",
          "height": 472
        },
        "id": "FyGrsjElN17c",
        "outputId": "2830aa12-b23c-4b50-cfda-c95196279d87"
      },
      "execution_count": 305,
      "outputs": [
        {
          "output_type": "display_data",
          "data": {
            "text/plain": [
              "<Figure size 640x480 with 1 Axes>"
            ],
            "image/png": "[encoded data removed]"
          },
          "metadata": {}
        }
      ]
    },
    {
      "cell_type": "code",
      "source": [
        "from matplotlib import pyplot\n",
        "\n",
        "baseline = model.score(x_test, y_test)\n",
        "\n",
        "pyplot.barh([str(param) for param in grid_search.cv_results_['params']], \\\n",
        "            [score - baseline for score in grid_search.cv_results_['mean_test_score']])\n",
        "\n",
        "pyplot.xlabel('Accuracy Difference')\n",
        "\n",
        "pyplot.ylabel('Hyperparameter Values')\n",
        "pyplot.title('Accuracy Difference Relative to Baseline')\n",
        "\n",
        "pyplot.gca().invert_yaxis()\n",
        "pyplot.show()"
      ],
      "metadata": {
        "colab": {
          "base_uri": "https://localhost:8080/",
          "height": 472
        },
        "id": "8HE98_lwPX4J",
        "outputId": "fe6b3cf9-5554-47b8-a298-c862ef61c445"
      },
      "execution_count": 308,
      "outputs": [
        {
          "output_type": "display_data",
          "data": {
            "text/plain": [
              "<Figure size 640x480 with 1 Axes>"
            ],
            "image/png": "[encoded data removed]"
          },
          "metadata": {}
        }
      ]
    },
    {
      "cell_type": "markdown",
      "source": [
        "#### The Best Hyperparameter Combination"
      ],
      "metadata": {
        "id": "V-oVpIrNIRdd"
      }
    },
    {
      "cell_type": "code",
      "source": [
        "grid_search.best_params_"
      ],
      "metadata": {
        "colab": {
          "base_uri": "https://localhost:8080/"
        },
        "id": "rHRFJc6CIXNL",
        "outputId": "0ffb8715-fedd-4c9c-f3a8-c22f306defde"
      },
      "execution_count": 309,
      "outputs": [
        {
          "output_type": "execute_result",
          "data": {
            "text/plain": [
              "{'C': 25, 'max_iter': 250}"
            ]
          },
          "metadata": {},
          "execution_count": 309
        }
      ]
    },
    {
      "cell_type": "markdown",
      "source": [
        "#### Build and Fit Model with Newfound Hyperparameters"
      ],
      "metadata": {
        "id": "jZWcLD81J_pt"
      }
    },
    {
      "cell_type": "code",
      "source": [
        "tuned_model = LogisticRegression(multi_class='multinomial', solver='lbfgs', **grid_search.best_params_).fit(x_train, y_train)"
      ],
      "metadata": {
        "id": "_PkftajnKQTT"
      },
      "execution_count": 310,
      "outputs": []
    },
    {
      "cell_type": "markdown",
      "source": [
        "#### *Model Inspection*"
      ],
      "metadata": {
        "id": "mulWJh-PK1eV"
      }
    },
    {
      "cell_type": "markdown",
      "source": [
        "##### The *classes* of the model.\n",
        "---\n",
        "Remains Unchanged."
      ],
      "metadata": {
        "id": "E5QnjkLIK6DR"
      }
    },
    {
      "cell_type": "markdown",
      "source": [
        "##### The *intercepts* of the model."
      ],
      "metadata": {
        "id": "JzTBVgA4ReL5"
      }
    },
    {
      "cell_type": "code",
      "source": [
        "max_len = max([len(name) for name in iris.feature_names])\n",
        "print(f'Intercepts\\n{\"-\"*(max_len*2)}')\n",
        "for target_class, intercept in dict(zip(iris.target_names, \\\n",
        "    [float(f'{intercept:0.2f}') for intercept in tuned_model.intercept_])).items():\n",
        "    print(f'{target_class:{max_len}}\\t{intercept:>10.2f}')"
      ],
      "metadata": {
        "colab": {
          "base_uri": "https://localhost:8080/"
        },
        "id": "x4TgqlEyRhNd",
        "outputId": "66e3eb01-5158-4a1d-f82a-d1e6d0219798"
      },
      "execution_count": 311,
      "outputs": [
        {
          "output_type": "stream",
          "name": "stdout",
          "text": [
            "Intercepts\n",
            "----------------------------------\n",
            "setosa           \t      0.23\n",
            "versicolor       \t      4.73\n",
            "virginica        \t     -4.97\n"
          ]
        }
      ]
    },
    {
      "cell_type": "markdown",
      "source": [
        "##### The *coefficients* of the model."
      ],
      "metadata": {
        "id": "6W_DwlXsLAUE"
      }
    },
    {
      "cell_type": "code",
      "source": [
        "max_len = max([len(name) for name in iris.feature_names])\n",
        "\n",
        "for target_class, features in dict(zip(iris.target_names, \\\n",
        "    [dict(zip(iris.feature_names, \\\n",
        "        [float(f'{coef:0.2f}') for coef in coefs])) \\\n",
        "            for coefs in tuned_model.coef_])).items():\n",
        "    print(f'{target_class}\\n{\"-\"*len(target_class)}')\n",
        "    print(f'\\t{\"feature\":{max_len}}\\tcoef\\n\\t{\"-\"*(max_len+11)}')\n",
        "    for feature, coef in features.items():\n",
        "        print(f'\\t{feature:{max_len}}{coef:>11.2f}')\n",
        "    print()"
      ],
      "metadata": {
        "colab": {
          "base_uri": "https://localhost:8080/"
        },
        "id": "WRfuznU4LFGu",
        "outputId": "94588b53-72f2-4946-b30c-d9d7cbc1f8c1"
      },
      "execution_count": 312,
      "outputs": [
        {
          "output_type": "stream",
          "name": "stdout",
          "text": [
            "setosa\n",
            "------\n",
            "\tfeature          \tcoef\n",
            "\t----------------------------\n",
            "\tsepal length (cm)      -1.79\n",
            "\tsepal width (cm)        2.10\n",
            "\tpetal length (cm)      -4.22\n",
            "\tpetal width (cm)       -3.95\n",
            "\n",
            "versicolor\n",
            "----------\n",
            "\tfeature          \tcoef\n",
            "\t----------------------------\n",
            "\tsepal length (cm)       1.34\n",
            "\tsepal width (cm)       -0.33\n",
            "\tpetal length (cm)      -2.04\n",
            "\tpetal width (cm)       -1.34\n",
            "\n",
            "virginica\n",
            "---------\n",
            "\tfeature          \tcoef\n",
            "\t----------------------------\n",
            "\tsepal length (cm)       0.46\n",
            "\tsepal width (cm)       -1.77\n",
            "\tpetal length (cm)       6.26\n",
            "\tpetal width (cm)        5.29\n",
            "\n"
          ]
        }
      ]
    },
    {
      "cell_type": "markdown",
      "source": [
        "#### Apply this *tuned* model in order to make a prediction on the test set."
      ],
      "metadata": {
        "id": "qbEaseRRLOK8"
      }
    },
    {
      "cell_type": "code",
      "source": [
        "tuned_y_pred = tuned_model.predict(X = x_test)"
      ],
      "metadata": {
        "id": "eW7owvwhLT0J"
      },
      "execution_count": 313,
      "outputs": []
    },
    {
      "cell_type": "markdown",
      "source": [
        "## Evaluating the Model's Performance"
      ],
      "metadata": {
        "id": "O80D0HRp5nnc"
      }
    },
    {
      "cell_type": "code",
      "source": [
        "from sklearn.metrics import accuracy_score, classification_report, confusion_matrix"
      ],
      "metadata": {
        "id": "TrVMu6ye552_"
      },
      "execution_count": 314,
      "outputs": []
    },
    {
      "cell_type": "markdown",
      "source": [
        "### **Basic Model**"
      ],
      "metadata": {
        "id": "FU0O3yaX5rDN"
      }
    },
    {
      "cell_type": "markdown",
      "source": [
        "#### The probability of `x_test` values belonging to each class."
      ],
      "metadata": {
        "id": "Xr7wWnlTGekZ"
      }
    },
    {
      "cell_type": "code",
      "source": [
        "y_proba = model.predict_proba(x_test)\n",
        "print(y_proba)\n",
        "print(y_proba.shape)"
      ],
      "metadata": {
        "colab": {
          "base_uri": "https://localhost:8080/"
        },
        "id": "J8viyoWSGsxA",
        "outputId": "9d772dac-3aa6-4be3-95d3-691c0ad98099"
      },
      "execution_count": 315,
      "outputs": [
        {
          "output_type": "stream",
          "name": "stdout",
          "text": [
            "[[9.53443303e-01 4.65556138e-02 1.08350934e-06]\n",
            " [8.97861958e-04 3.07440884e-01 6.91661254e-01]\n",
            " [9.54058524e-05 6.06827584e-02 9.39221836e-01]\n",
            " [1.50069324e-02 7.46265598e-01 2.38727469e-01]\n",
            " [8.39710485e-02 9.03668047e-01 1.23609048e-02]\n",
            " [7.30301936e-02 8.32543703e-01 9.44261030e-02]\n",
            " [9.38559168e-01 6.14390665e-02 1.76535247e-06]\n",
            " [1.99444851e-02 7.90792378e-01 1.89263137e-01]\n",
            " [8.89585560e-05 6.97568671e-02 9.30154174e-01]\n",
            " [1.28992902e-03 1.89216491e-01 8.09493580e-01]\n",
            " [9.69152217e-01 3.08452509e-02 2.53164251e-06]\n",
            " [1.83414337e-03 8.27773060e-01 1.70392796e-01]\n",
            " [9.75698239e-01 2.43013484e-02 4.12744531e-07]\n",
            " [9.80786370e-01 1.92134108e-02 2.19633098e-07]\n",
            " [9.54228181e-01 4.57712079e-02 6.11369822e-07]\n",
            " [5.90860919e-03 3.94294732e-01 5.99796659e-01]\n",
            " [5.17699144e-08 3.33083849e-03 9.96669110e-01]\n",
            " [9.64160299e-01 3.58392748e-02 4.26562607e-07]\n",
            " [9.86518352e-06 5.87562986e-02 9.41233836e-01]\n",
            " [9.70106149e-01 2.98932409e-02 6.10488020e-07]\n",
            " [3.18058444e-02 8.69835594e-01 9.83585617e-02]\n",
            " [9.71737304e-01 2.82620907e-02 6.05400166e-07]\n",
            " [1.66981181e-03 4.35548483e-01 5.62781705e-01]\n",
            " [2.00027444e-04 2.58870916e-02 9.73912881e-01]\n",
            " [6.53983537e-02 7.14435019e-01 2.20166627e-01]\n",
            " [2.10393439e-03 7.44457224e-01 2.53438841e-01]\n",
            " [2.39481121e-04 6.81835581e-02 9.31576961e-01]\n",
            " [2.69334189e-02 8.76598814e-01 9.64677667e-02]\n",
            " [9.91509924e-01 8.49001318e-03 6.30686323e-08]\n",
            " [5.06212228e-02 8.67716707e-01 8.16620698e-02]]\n",
            "(30, 3)\n"
          ]
        }
      ]
    },
    {
      "cell_type": "markdown",
      "source": [
        "#### Confusion Matrix\n"
      ],
      "metadata": {
        "id": "g81x5-Eshs2b"
      }
    },
    {
      "cell_type": "code",
      "source": [
        "print(confusion := confusion_matrix(y_test, y_pred))"
      ],
      "metadata": {
        "colab": {
          "base_uri": "https://localhost:8080/"
        },
        "id": "tjrvOe_hhwh4",
        "outputId": "a737754b-8857-4e05-f35b-a6343f598559"
      },
      "execution_count": 316,
      "outputs": [
        {
          "output_type": "stream",
          "name": "stdout",
          "text": [
            "[[10  0  0]\n",
            " [ 0 10  1]\n",
            " [ 0  0  9]]\n"
          ]
        }
      ]
    },
    {
      "cell_type": "markdown",
      "source": [
        "#### Accuracy Score\n"
      ],
      "metadata": {
        "id": "9hK-tdetCSHh"
      }
    },
    {
      "cell_type": "code",
      "source": [
        "print(f'Accuracy Score:\\n{\"-\"*15}\\n{accuracy_score(y_test, y_pred):15.2f}')"
      ],
      "metadata": {
        "colab": {
          "base_uri": "https://localhost:8080/"
        },
        "id": "-8lQVz3QCUoJ",
        "outputId": "8aa2b386-8fef-4650-f312-41d689ab5027"
      },
      "execution_count": 317,
      "outputs": [
        {
          "output_type": "stream",
          "name": "stdout",
          "text": [
            "Accuracy Score:\n",
            "---------------\n",
            "           0.97\n"
          ]
        }
      ]
    },
    {
      "cell_type": "markdown",
      "source": [
        "#### Classification Report\n"
      ],
      "metadata": {
        "id": "WkY9m7x564_r"
      }
    },
    {
      "cell_type": "code",
      "source": [
        "print(f'Classification Report:\\n{\"-\"*22}\\n{classification_report(y_test, y_pred)}')"
      ],
      "metadata": {
        "colab": {
          "base_uri": "https://localhost:8080/"
        },
        "id": "Jgr1PwDT7DV1",
        "outputId": "7043861b-7381-41fe-dfd5-a5aa8b4574d0"
      },
      "execution_count": 294,
      "outputs": [
        {
          "output_type": "stream",
          "name": "stdout",
          "text": [
            "Classification Report:\n",
            "----------------------\n",
            "              precision    recall  f1-score   support\n",
            "\n",
            "           0       1.00      1.00      1.00        10\n",
            "           1       1.00      0.91      0.95        11\n",
            "           2       0.90      1.00      0.95         9\n",
            "\n",
            "    accuracy                           0.97        30\n",
            "   macro avg       0.97      0.97      0.97        30\n",
            "weighted avg       0.97      0.97      0.97        30\n",
            "\n"
          ]
        }
      ]
    },
    {
      "cell_type": "markdown",
      "source": [
        "#### Visualization"
      ],
      "metadata": {
        "id": "k9twZMD3XIZv"
      }
    },
    {
      "cell_type": "code",
      "source": [
        "from matplotlib import pyplot\n",
        "from seaborn import heatmap\n",
        "\n",
        "heatmap(confusion, annot=True, xticklabels=iris.target_names, yticklabels=iris.target_names)\n",
        "pyplot.xlabel('Predicted')\n",
        "pyplot.ylabel('Actual')\n",
        "pyplot.title('Confusion Matrix')\n",
        "pyplot.show()\n"
      ],
      "metadata": {
        "colab": {
          "base_uri": "https://localhost:8080/",
          "height": 472
        },
        "id": "8kYofMqXXKAN",
        "outputId": "5abff513-55aa-4b48-f3a8-2cf9235c53d2"
      },
      "execution_count": 295,
      "outputs": [
        {
          "output_type": "display_data",
          "data": {
            "text/plain": [
              "<Figure size 640x480 with 2 Axes>"
            ],
            "image/png": "[encoded data removed]"
          },
          "metadata": {}
        }
      ]
    },
    {
      "cell_type": "code",
      "source": [
        "from matplotlib import pyplot\n",
        "from pandas import DataFrame\n",
        "from seaborn import barplot\n",
        "\n",
        "for class_coef in model.coef_:\n",
        "    barplot(x=\"Importance\", y=\"Feature\", data=DataFrame({\"Feature\": iris.feature_names, \"Importance\": class_coef}))\n",
        "pyplot.title(\"Range of Importance of Features\")\n",
        "pyplot.show()\n"
      ],
      "metadata": {
        "colab": {
          "base_uri": "https://localhost:8080/",
          "height": 472
        },
        "id": "WLCBMUCi_g8Y",
        "outputId": "c6131025-48a2-438f-b1c2-45fe4318f224"
      },
      "execution_count": 296,
      "outputs": [
        {
          "output_type": "display_data",
          "data": {
            "text/plain": [
              "<Figure size 640x480 with 1 Axes>"
            ],
            "image/png": "[encoded data removed]"
          },
          "metadata": {}
        }
      ]
    },
    {
      "cell_type": "markdown",
      "source": [
        "### **Tuned Model**"
      ],
      "metadata": {
        "id": "6S9-SkrbLmgZ"
      }
    },
    {
      "cell_type": "markdown",
      "source": [
        "#### The probability of `x_test` values belonging to each class."
      ],
      "metadata": {
        "id": "AGICbinALmgZ"
      }
    },
    {
      "cell_type": "code",
      "source": [
        "tuned_y_proba = tuned_model.predict_proba(x_test)\n",
        "print(tuned_y_proba)\n",
        "print(tuned_y_proba.shape)"
      ],
      "metadata": {
        "colab": {
          "base_uri": "https://localhost:8080/"
        },
        "outputId": "977f92cf-6c3f-4187-a1c5-8647deb053eb",
        "id": "WuINoIQzLmga"
      },
      "execution_count": 321,
      "outputs": [
        {
          "output_type": "stream",
          "name": "stdout",
          "text": [
            "[[9.97110949e-01 2.88905144e-03 3.06882358e-15]\n",
            " [1.42414757e-06 1.67738144e-01 8.32260432e-01]\n",
            " [6.59639651e-09 6.70712931e-03 9.93292864e-01]\n",
            " [3.49036920e-04 9.61072086e-01 3.85788771e-02]\n",
            " [1.70465437e-02 9.82918583e-01 3.48737205e-05]\n",
            " [8.04509237e-03 9.87535104e-01 4.41980369e-03]\n",
            " [9.94574342e-01 5.42565774e-03 7.41457037e-15]\n",
            " [3.79654707e-04 9.89697519e-01 9.92282617e-03]\n",
            " [3.98400809e-09 3.85290735e-03 9.96147089e-01]\n",
            " [1.70070438e-06 7.66415408e-02 9.23356759e-01]\n",
            " [9.97061840e-01 2.93815997e-03 2.33985543e-14]\n",
            " [1.01917962e-05 9.79317628e-01 2.06721801e-02]\n",
            " [9.99273636e-01 7.26364308e-04 3.99117346e-16]\n",
            " [9.98941979e-01 1.05802103e-03 5.44355260e-17]\n",
            " [9.97335402e-01 2.66459782e-03 6.60855600e-16]\n",
            " [5.72694086e-05 3.76347442e-01 6.23595288e-01]\n",
            " [2.32411781e-16 6.91616563e-07 9.99999308e-01]\n",
            " [9.97754761e-01 2.24523927e-03 2.12750193e-16]\n",
            " [4.46747938e-11 1.34534010e-03 9.98654660e-01]\n",
            " [9.98819726e-01 1.18027431e-03 9.73402618e-16]\n",
            " [1.68028929e-03 9.93400272e-01 4.91943916e-03]\n",
            " [9.98847795e-01 1.15220494e-03 9.93309971e-16]\n",
            " [6.12861081e-06 5.47463026e-01 4.52530845e-01]\n",
            " [6.87836271e-09 3.61250609e-04 9.99638743e-01]\n",
            " [3.63134209e-03 9.77120827e-01 1.92478309e-02]\n",
            " [9.04719494e-06 9.61995083e-01 3.79958697e-02]\n",
            " [2.06626462e-08 3.49697546e-03 9.96503004e-01]\n",
            " [1.59580073e-03 9.90384942e-01 8.01925691e-03]\n",
            " [9.99836518e-01 1.63481961e-04 5.17909359e-18]\n",
            " [3.32415321e-03 9.94335025e-01 2.34082167e-03]]\n",
            "(30, 3)\n"
          ]
        }
      ]
    },
    {
      "cell_type": "markdown",
      "source": [
        "#### Confusion Matrix\n"
      ],
      "metadata": {
        "id": "Ts4jtffiLmga"
      }
    },
    {
      "cell_type": "code",
      "source": [
        "print(tuned_confusion := confusion_matrix(y_test, tuned_y_pred))"
      ],
      "metadata": {
        "colab": {
          "base_uri": "https://localhost:8080/"
        },
        "outputId": "79b8b9a2-4f37-487b-c784-2af4b7351033",
        "id": "dvpGMh2mLmgb"
      },
      "execution_count": 320,
      "outputs": [
        {
          "output_type": "stream",
          "name": "stdout",
          "text": [
            "[[10  0  0]\n",
            " [ 0 11  0]\n",
            " [ 0  0  9]]\n"
          ]
        }
      ]
    },
    {
      "cell_type": "markdown",
      "source": [
        "#### Accuracy Score\n"
      ],
      "metadata": {
        "id": "2dkEeCB2Lmgb"
      }
    },
    {
      "cell_type": "code",
      "source": [
        "print(f'Accuracy Score:\\n{\"-\"*15}\\n{accuracy_score(y_test, tuned_y_pred):15.2f}')"
      ],
      "metadata": {
        "colab": {
          "base_uri": "https://localhost:8080/"
        },
        "outputId": "8e7a5549-33ca-4fe0-aaa0-6baf86defbf3",
        "id": "xJP_kD2GLmgb"
      },
      "execution_count": 319,
      "outputs": [
        {
          "output_type": "stream",
          "name": "stdout",
          "text": [
            "Accuracy Score:\n",
            "---------------\n",
            "           1.00\n"
          ]
        }
      ]
    },
    {
      "cell_type": "markdown",
      "source": [
        "#### Classification Report\n"
      ],
      "metadata": {
        "id": "XrtUEPkfLmgb"
      }
    },
    {
      "cell_type": "code",
      "source": [
        "print(f'Classification Report:\\n{\"-\"*22}\\n{classification_report(y_test, tuned_y_pred)}')"
      ],
      "metadata": {
        "colab": {
          "base_uri": "https://localhost:8080/"
        },
        "outputId": "7c848c6a-94a6-470a-8c78-5be35eaa34cb",
        "id": "EDyCz3d7Lmgb"
      },
      "execution_count": 322,
      "outputs": [
        {
          "output_type": "stream",
          "name": "stdout",
          "text": [
            "Classification Report:\n",
            "----------------------\n",
            "              precision    recall  f1-score   support\n",
            "\n",
            "           0       1.00      1.00      1.00        10\n",
            "           1       1.00      1.00      1.00        11\n",
            "           2       1.00      1.00      1.00         9\n",
            "\n",
            "    accuracy                           1.00        30\n",
            "   macro avg       1.00      1.00      1.00        30\n",
            "weighted avg       1.00      1.00      1.00        30\n",
            "\n"
          ]
        }
      ]
    },
    {
      "cell_type": "markdown",
      "source": [
        "#### Visualization"
      ],
      "metadata": {
        "id": "Z20hWBSvLmgc"
      }
    },
    {
      "cell_type": "code",
      "source": [
        "from matplotlib import pyplot\n",
        "from seaborn import heatmap\n",
        "\n",
        "heatmap(tuned_confusion, annot=True, xticklabels=iris.target_names, yticklabels=iris.target_names)\n",
        "pyplot.xlabel('Predicted')\n",
        "pyplot.ylabel('Actual')\n",
        "pyplot.title('Confusion Matrix')\n",
        "pyplot.show()\n"
      ],
      "metadata": {
        "colab": {
          "base_uri": "https://localhost:8080/",
          "height": 472
        },
        "outputId": "b4dfac61-aec1-4580-a95b-d331bd094cab",
        "id": "2VCWA9XDLmgc"
      },
      "execution_count": 323,
      "outputs": [
        {
          "output_type": "display_data",
          "data": {
            "text/plain": [
              "<Figure size 640x480 with 2 Axes>"
            ],
            "image/png": "[encoded data removed]"
          },
          "metadata": {}
        }
      ]
    },
    {
      "cell_type": "code",
      "source": [
        "from matplotlib import pyplot\n",
        "from pandas import DataFrame\n",
        "from seaborn import barplot\n",
        "\n",
        "for class_coef in tuned_model.coef_:\n",
        "    barplot(x=\"Importance\", y=\"Feature\", data=DataFrame({\"Feature\": iris.feature_names, \"Importance\": class_coef}))\n",
        "pyplot.title(\"Range of Importance of Features\")\n",
        "pyplot.show()\n"
      ],
      "metadata": {
        "colab": {
          "base_uri": "https://localhost:8080/",
          "height": 472
        },
        "outputId": "f1c29111-736f-400f-d584-291228a26ebc",
        "id": "UkK9C5oiLmgc"
      },
      "execution_count": 324,
      "outputs": [
        {
          "output_type": "display_data",
          "data": {
            "text/plain": [
              "<Figure size 640x480 with 1 Axes>"
            ],
            "image/png": "[encoded data removed]"
          },
          "metadata": {}
        }
      ]
    }
  ]
}